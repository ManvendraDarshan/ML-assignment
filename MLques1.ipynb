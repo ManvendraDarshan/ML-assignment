{
  "nbformat": 4,
  "nbformat_minor": 0,
  "metadata": {
    "colab": {
      "provenance": []
    },
    "kernelspec": {
      "name": "python3",
      "display_name": "Python 3"
    },
    "language_info": {
      "name": "python"
    }
  },
  "cells": [
    {
      "cell_type": "code",
      "execution_count": null,
      "metadata": {
        "colab": {
          "base_uri": "https://localhost:8080/"
        },
        "id": "RrObmHj1XjiH",
        "outputId": "a019602c-3b1c-4865-878d-b47b16c525e1"
      },
      "outputs": [
        {
          "output_type": "stream",
          "name": "stdout",
          "text": [
            "First five rows of the Iris dataset:\n",
            "   sepal length (cm)  sepal width (cm)  petal length (cm)  petal width (cm)\n",
            "0                5.1               3.5                1.4               0.2\n",
            "1                4.9               3.0                1.4               0.2\n",
            "2                4.7               3.2                1.3               0.2\n",
            "3                4.6               3.1                1.5               0.2\n",
            "4                5.0               3.6                1.4               0.2\n",
            "\n",
            "Shape of the dataset: (150, 4)\n",
            "\n",
            "Summary statistics:\n",
            "       sepal length (cm)  sepal width (cm)  petal length (cm)  \\\n",
            "count         150.000000        150.000000         150.000000   \n",
            "mean            5.843333          3.057333           3.758000   \n",
            "std             0.828066          0.435866           1.765298   \n",
            "min             4.300000          2.000000           1.000000   \n",
            "25%             5.100000          2.800000           1.600000   \n",
            "50%             5.800000          3.000000           4.350000   \n",
            "75%             6.400000          3.300000           5.100000   \n",
            "max             7.900000          4.400000           6.900000   \n",
            "\n",
            "       petal width (cm)  \n",
            "count        150.000000  \n",
            "mean           1.199333  \n",
            "std            0.762238  \n",
            "min            0.100000  \n",
            "25%            0.300000  \n",
            "50%            1.300000  \n",
            "75%            1.800000  \n",
            "max            2.500000  \n"
          ]
        }
      ],
      "source": [
        "from sklearn.datasets import load_iris\n",
        "import pandas as pd\n",
        "\n",
        "# Load the Iris dataset\n",
        "iris = load_iris()\n",
        "data = pd.DataFrame(data=iris.data, columns=iris.feature_names)\n",
        "\n",
        "# Section 1: Display the first five rows\n",
        "print(\"First five rows of the Iris dataset:\")\n",
        "print(data.head())\n",
        "\n",
        "# Section 2: Display the dataset's shape and summary statistics\n",
        "print(f\"\\nShape of the dataset: {data.shape}\")\n",
        "print(\"\\nSummary statistics:\")\n",
        "print(data.describe())"
      ]
    },
    {
      "cell_type": "markdown",
      "source": [
        "**Explaination:**\n",
        "\n",
        "This code helps you explore the Iris dataset by first showing you a small sample of the data (the first five rows) and then providing an overview of the entire dataset with its shape and basic statistics. This is a common first step in any data analysis or machine learning project, as it helps you understand the data you're working with."
      ],
      "metadata": {
        "id": "IvV7h-U7nAP_"
      }
    },
    {
      "cell_type": "markdown",
      "source": [
        "**1. Importing Libraries:**\n",
        "\n",
        "load_iris: This function from sklearn.datasets loads the Iris dataset, which is a collection of measurements for different Iris flowers.\n",
        "\n",
        "pandas (pd): This library is used for handling data in a table format, making it easy to manipulate and analyze.\n",
        "\n",
        "**2. Loading the Iris Dataset:**\n",
        "\n",
        "iris: This variable stores the Iris dataset after loading it with load_iris(). The dataset contains measurements of four features (sepal length, sepal width, petal length, and petal width) for three different Iris flower species.\n",
        "\n",
        "data: This is a DataFrame created using pandas. It converts the numerical data from the Iris dataset into a tabular format with columns named after the features.\n",
        "\n",
        "**3. Section 1: Display the First Five Rows:**\n",
        "\n",
        "data.head(): This command displays the first five rows of the DataFrame, giving you a quick look at the initial data in the dataset. This helps to understand what the data looks like.\n",
        "\n",
        "**4. Section 2: Display the Dataset's Shape and Summary Statistics:**\n",
        "\n",
        "data.shape: This shows the shape of the dataset, which tells you the number of rows and columns. It’s in the format (number_of_rows, number_of_columns).\n",
        "\n",
        "data.describe(): This command provides summary statistics for each feature in the dataset, including the mean, standard deviation, minimum, maximum, and the quartile values (25%, 50%, and 75%). These statistics help understand the distribution and spread of the data.\n"
      ],
      "metadata": {
        "id": "KHOpILxil0ks"
      }
    },
    {
      "cell_type": "markdown",
      "source": [],
      "metadata": {
        "id": "ilCcVeVJm-Dt"
      }
    }
  ]
}